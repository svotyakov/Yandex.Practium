{
 "cells": [
  {
   "cell_type": "code",
   "execution_count": 74,
   "id": "12506d23",
   "metadata": {},
   "outputs": [],
   "source": [
    "import pandas as pd\n",
    "import numpy as np\n",
    "from scipy import stats\n",
    "from matplotlib import pyplot as plt\n",
    "state = np.random.RandomState(12345)"
   ]
  },
  {
   "cell_type": "markdown",
   "id": "7f03b88e",
   "metadata": {},
   "source": [
    "# ЗАДАЧА:\n",
    "Мы немного поменяли интерфейс интернет-магазина для части пользователей. Нужно проверить, изменился ли средний чек покупки.  (Предполагается, что пользователей группы А и группы B выбирали случайным образом.)"
   ]
  },
  {
   "cell_type": "code",
   "execution_count": 53,
   "id": "5cd2bcf2",
   "metadata": {},
   "outputs": [],
   "source": [
    "alpha = 0.05 # зададим уровень значимости (единый для всех методов)"
   ]
  },
  {
   "cell_type": "markdown",
   "id": "235599ba",
   "metadata": {},
   "source": [
    "Сразу следует отметить, что такое P-value.\n",
    "- Нулевая гипотеза предполагает, что средние двух выборок одинаковые (то, что метод mean() нам говорит об обратном нам не важно, согласно ЦПТ считается, что средние подвыборок стремятся к нормальному распределению вокруг истинного среднего, т.е. это просто одно из отклонений)\n",
    "- P-value показывает вероятность получить такое или более экстремальное значение, т.е. разницу средних из двух случайных выборок."
   ]
  },
  {
   "cell_type": "code",
   "execution_count": 54,
   "id": "201ec31c",
   "metadata": {},
   "outputs": [],
   "source": [
    "# данные контрольной группы A\n",
    "samples_A = pd.Series([\n",
    "     98.24,  97.77,  95.56,  99.49, 101.4 , 105.35,  95.83,  93.02,\n",
    "    101.37,  95.66,  98.34, 100.75, 104.93,  97.  ,  95.46, 100.03,\n",
    "    102.34,  98.23,  97.05,  97.76,  98.63,  98.82,  99.51,  99.31,\n",
    "     98.58,  96.84,  93.71, 101.38, 100.6 , 103.68, 104.78, 101.51,\n",
    "    100.89, 102.27,  99.87,  94.83,  95.95, 105.2 ,  97.  ,  95.54,\n",
    "     98.38,  99.81, 103.34, 101.14, 102.19,  94.77,  94.74,  99.56,\n",
    "    102.  , 100.95, 102.19, 103.75, 103.65,  95.07, 103.53, 100.42,\n",
    "     98.09,  94.86, 101.47, 103.07, 100.15, 100.32, 100.89, 101.23,\n",
    "     95.95, 103.69, 100.09,  96.28,  96.11,  97.63,  99.45, 100.81,\n",
    "    102.18,  94.92,  98.89, 101.48, 101.29,  94.43, 101.55,  95.85,\n",
    "    100.16,  97.49, 105.17, 104.83, 101.9 , 100.56, 104.91,  94.17,\n",
    "    103.48, 100.55, 102.66, 100.62,  96.93, 102.67, 101.27,  98.56,\n",
    "    102.41, 100.69,  99.67, 100.99])\n",
    "# данные экспериментальной группы B\n",
    "samples_B = pd.Series([\n",
    "    101.67, 102.27,  97.01, 103.46, 100.76, 101.19,  99.11,  97.59,\n",
    "    101.01, 101.45,  94.8 , 101.55,  96.38,  99.03, 102.83,  97.32,\n",
    "     98.25,  97.17, 101.1 , 102.57, 104.59, 105.63,  98.93, 103.87,\n",
    "     98.48, 101.14, 102.24,  98.55, 105.61, 100.06,  99.  , 102.53,\n",
    "    101.56, 102.68, 103.26,  96.62,  99.48, 107.6 ,  99.87, 103.58,\n",
    "    105.05, 105.69,  94.52,  99.51,  99.81,  99.44,  97.35, 102.97,\n",
    "     99.77,  99.59, 102.12, 104.29,  98.31,  98.83,  96.83,  99.2 ,\n",
    "     97.88, 102.34, 102.04,  99.88,  99.69, 103.43, 100.71,  92.71,\n",
    "     99.99,  99.39,  99.19,  99.29, 100.34, 101.08, 100.29,  93.83,\n",
    "    103.63,  98.88, 105.36, 101.82, 100.86, 100.75,  99.4 ,  95.37,\n",
    "    107.96,  97.69, 102.17,  99.41,  98.97,  97.96,  98.31,  97.09,\n",
    "    103.92, 100.98, 102.76,  98.24,  97.  ,  98.99, 103.54,  99.72,\n",
    "    101.62, 100.62, 102.79, 104.19])"
   ]
  },
  {
   "cell_type": "markdown",
   "id": "99feb9f5",
   "metadata": {},
   "source": [
    "### С помощью пакета Scipy stats.ttest\n",
    "Самый легкий способ, которым и есть смысл пользоваться\n",
    "- Следует отметить, что здесь мы получаем двухстороннюю вероятность, т.е. экстремальные значения могут быть как отрицательные, так и положительные. \n",
    "- Если бы мы делали одностороннюю проверку, то полученное значение надо бы было разделить на два. При этом, и уровень alpha надо было бы уменьшить в два раза.\n",
    "- ??? Важно отметить, что средние должны иметь распределение Стьюдента. Обычно это так и есть (в случае нормальноего распределения)"
   ]
  },
  {
   "cell_type": "code",
   "execution_count": 55,
   "id": "9740cb46",
   "metadata": {},
   "outputs": [
    {
     "data": {
      "text/plain": [
       "0.06891039185573565"
      ]
     },
     "execution_count": 55,
     "metadata": {},
     "output_type": "execute_result"
    }
   ],
   "source": [
    "t, pvalue = stats.ttest_ind(samples_A, samples_B) #считаем, что дисперсии выборок одинаковые equal_var = True\n",
    "pvalue"
   ]
  },
  {
   "cell_type": "code",
   "execution_count": 56,
   "id": "02788d6a",
   "metadata": {},
   "outputs": [
    {
     "name": "stdout",
     "output_type": "stream",
     "text": [
      "Не получилось отвергнуть нулевую гипотезу: скорее всего, средний чек не увеличился\n"
     ]
    }
   ],
   "source": [
    "if pvalue > alpha: # т.е. вероятность получить abs(samples_A, samples_B) случайным способом\n",
    "                   #больше установленного нами порога\n",
    "    print(\"Не получилось отвергнуть нулевую гипотезу: скорее всего, средний чек не увеличился\")\n",
    "else:\n",
    "    print(\"Отвергаем нулевую гипотезу: скорее всего, средний чек увеличился\")"
   ]
  },
  {
   "cell_type": "markdown",
   "id": "0b324e2c",
   "metadata": {},
   "source": [
    "Отметим, что с вероятностью 6.9% мы можем получить такую же или более существенною разницу средних делая подвыборки из Генеральной совокупности с данными характеристиками (t-критерий, дисперсия). "
   ]
  },
  {
   "cell_type": "markdown",
   "id": "4e89749a",
   "metadata": {},
   "source": [
    "### С помощью stats.t.cdf (кумулятивного распределения Стьюдента)"
   ]
  },
  {
   "cell_type": "markdown",
   "id": "c4b90c80",
   "metadata": {},
   "source": [
    "В классической статистике, рассчитав t-критерий Стюдента и количество степеней свободы, с помощью специальной таблицы, можно найти pvalue. В нашем случае, роль этой таблицы будет выполнять метод stats.t.cdf"
   ]
  },
  {
   "cell_type": "code",
   "execution_count": 61,
   "id": "dc7ce6e9",
   "metadata": {},
   "outputs": [
    {
     "data": {
      "text/plain": [
       "2.969996248679739"
      ]
     },
     "execution_count": 61,
     "metadata": {},
     "output_type": "execute_result"
    }
   ],
   "source": [
    "# считаем среднее стандартное отклонение по двум выборкам\n",
    "s = np.sqrt( (samples_A.var(ddof=1) + samples_B.var(ddof=1)) / 2 )\n",
    "s"
   ]
  },
  {
   "attachments": {
    "474ddf7ecb2cf5652280e7701f67f16b-2.png": {
     "image/png": "[encoded data removed]"
    }
   },
   "cell_type": "markdown",
   "id": "c745cebb",
   "metadata": {},
   "source": [
    "![474ddf7ecb2cf5652280e7701f67f16b-2.png](attachment:474ddf7ecb2cf5652280e7701f67f16b-2.png)"
   ]
  },
  {
   "cell_type": "code",
   "execution_count": 63,
   "id": "da067eb6",
   "metadata": {},
   "outputs": [
    {
     "data": {
      "text/plain": [
       "-1.8289566175344534"
      ]
     },
     "execution_count": 63,
     "metadata": {},
     "output_type": "execute_result"
    }
   ],
   "source": [
    "#считаем t-критерий Стьюдента, где N - размер одной из выборок (в случае равных выборок)\n",
    "t = (samples_A.mean() - samples_B.mean()) / (s * np.sqrt(2.0/len(samples_A)))\n",
    "t"
   ]
  },
  {
   "cell_type": "code",
   "execution_count": 65,
   "id": "066c3a6a",
   "metadata": {},
   "outputs": [
    {
     "data": {
      "text/plain": [
       "198"
      ]
     },
     "execution_count": 65,
     "metadata": {},
     "output_type": "execute_result"
    }
   ],
   "source": [
    "# количество степеней свободы\n",
    "df = 2*(len(samples_A)) - 2\n",
    "df"
   ]
  },
  {
   "cell_type": "code",
   "execution_count": 67,
   "id": "e76b979c",
   "metadata": {},
   "outputs": [
    {
     "data": {
      "text/plain": [
       "0.06891039185573566"
      ]
     },
     "execution_count": 67,
     "metadata": {},
     "output_type": "execute_result"
    }
   ],
   "source": [
    "# находим p-значение:\n",
    "pvalueT = 2*(1 - stats.t.cdf(np.abs(t), df=df)) # фактически, мы считаем вероятность интервала справа, \n",
    "#потом умножаем его на 2.\n",
    "pvalueT"
   ]
  },
  {
   "cell_type": "code",
   "execution_count": 68,
   "id": "ba4b23e1",
   "metadata": {},
   "outputs": [
    {
     "name": "stdout",
     "output_type": "stream",
     "text": [
      "Не получилось отвергнуть нулевую гипотезу: скорее всего, средний чек не увеличился\n"
     ]
    }
   ],
   "source": [
    "if pvalueT > alpha:\n",
    "    print(\"Не получилось отвергнуть нулевую гипотезу: скорее всего, средний чек не увеличился\")\n",
    "else:\n",
    "    print(\"Отвергаем нулевую гипотезу: скорее всего, средний чек увеличился\")"
   ]
  },
  {
   "cell_type": "markdown",
   "id": "a1855e3b",
   "metadata": {},
   "source": [
    "### Bootstrap\n",
    "Смысл метода в том, что мы считает разницу между средними двух выборок. Затем объединяем выборки в одну, перемешиваем значения, снова разбиваем на две выборки и считаем разницу средних (B-A). Если разница больше изначальной(смотрим по модулю), то отмечаем этот факт. В конце эксперимента делим количество таких превышений на число экспериментов - это и будет наша p-value"
   ]
  },
  {
   "cell_type": "code",
   "execution_count": 57,
   "id": "9a00b9d1",
   "metadata": {},
   "outputs": [
    {
     "data": {
      "text/plain": [
       "0.7682000000000357"
      ]
     },
     "execution_count": 57,
     "metadata": {},
     "output_type": "execute_result"
    }
   ],
   "source": [
    "# посчитаем фактическую разность средних значений в группах\n",
    "AB_difference = samples_B.mean() - samples_A.mean()\n",
    "AB_difference"
   ]
  },
  {
   "cell_type": "code",
   "execution_count": 58,
   "id": "9047c179",
   "metadata": {},
   "outputs": [],
   "source": [
    "# зададим число экспериментов\n",
    "bootstrap_samples = 10000\n",
    "#объединим выборки\n",
    "united_samples = pd.concat([samples_A, samples_B]) "
   ]
  },
  {
   "cell_type": "code",
   "execution_count": 69,
   "id": "bc02586f",
   "metadata": {},
   "outputs": [
    {
     "data": {
      "text/plain": [
       "0.0675"
      ]
     },
     "execution_count": 69,
     "metadata": {},
     "output_type": "execute_result"
    }
   ],
   "source": [
    "count = 0\n",
    "bootstrap =[]\n",
    "for i in range(bootstrap_samples):\n",
    "    subsample = united_samples.sample(n=len(united_samples), replace=True, random_state=state)\n",
    "    subsample_A = subsample[:len(samples_A)]\n",
    "    subsample_B = subsample[len(samples_A):]\n",
    "    # разница средних\n",
    "    bootstrap_difference = subsample_B.mean() - subsample_A.mean()\n",
    "    bootstrap.append(bootstrap_difference)\n",
    "    if abs(bootstrap_difference) >= AB_difference:\n",
    "        count += 1\n",
    "# p-value равно доле превышений значений\n",
    "pvalueBS = count / bootstrap_samples\n",
    "pvalueBS"
   ]
  },
  {
   "cell_type": "code",
   "execution_count": 70,
   "id": "a9933bde",
   "metadata": {},
   "outputs": [
    {
     "name": "stdout",
     "output_type": "stream",
     "text": [
      "Не получилось отвергнуть нулевую гипотезу: скорее всего, средний чек не увеличился\n"
     ]
    }
   ],
   "source": [
    "# Если случаев, когда bootstrap_difference >= AB_difference действительно много, мы понимаем, что с большой вероятностью,\n",
    "# разность объясняется свойствами выборки, а не действительным ростом среднего чека\n",
    "if pvalueBS > alpha:\n",
    "    print(\"Не получилось отвергнуть нулевую гипотезу: скорее всего, средний чек не увеличился\")\n",
    "else:\n",
    "    print(\"Отвергаем нулевую гипотезу: скорее всего, средний чек увеличился\")"
   ]
  },
  {
   "cell_type": "markdown",
   "id": "3c146a1f",
   "metadata": {},
   "source": [
    "Хотелось отметить, что с помощью техники Bootstrap (фактически - метод Монте-Карло), мы получили абсолютно такое же значение P-value без специальных знаний."
   ]
  },
  {
   "cell_type": "code",
   "execution_count": 95,
   "id": "4eae1b6a",
   "metadata": {},
   "outputs": [
    {
     "data": {
      "image/png": "[encoded data removed]",
      "text/plain": [
       "<Figure size 1800x500 with 1 Axes>"
      ]
     },
     "metadata": {},
     "output_type": "display_data"
    }
   ],
   "source": [
    "bootstrap = pd.Series(bootstrap)\n",
    "fig, ax = plt.subplots(figsize=(18, 5))\n",
    "bootstrap.plot(kind='kde', grid=True, ax=ax)\n",
    "plt.axvline(bootstrap.quantile(0.025), linestyle='dotted')\n",
    "plt.text(bootstrap.quantile(0.025)+0.01, 0.3, 'доверительный интервал 95%', rotation=90)\n",
    "\n",
    "plt.axvline(bootstrap.quantile(0.975), linestyle='dotted')\n",
    "plt.text(bootstrap.quantile(0.975)-0.02, 0.3, 'доверительный интервал 95%', rotation=90)\n",
    "plt.suptitle('Распределение вероятности разницы средних значений')\n",
    "plt.xlim(-1, 1)\n",
    "plt.axvspan(-200, bootstrap.quantile(0.025), color='grey', alpha=0.5)\n",
    "plt.axvspan(bootstrap.quantile(0.975),1000, color='grey', alpha=0.5)\n",
    "\n",
    "plt.axvline(AB_difference)\n",
    "plt.text(AB_difference-0.02, 0.3, 'наблюдаемая разница средних', rotation=90)\n",
    "\n",
    "plt.show()"
   ]
  },
  {
   "cell_type": "markdown",
   "id": "bb4f207d",
   "metadata": {},
   "source": [
    "Графически решение можно представить таким образом:\n",
    "- У нас есть распределение средних(==Стьюдента) и есть доверительный интервал 95% (от альфа = 0.05)\n",
    "- Если наше среднее попадает в 95% значений доверительного интервала, значит считаем, что природа этого различия - случайность выборок, в нашем случае это так и есть."
   ]
  },
  {
   "cell_type": "markdown",
   "id": "2bc948fd",
   "metadata": {},
   "source": [
    "# Размер выборки для непрерывной переменной"
   ]
  },
  {
   "cell_type": "code",
   "execution_count": 178,
   "id": "85eb6bd4",
   "metadata": {},
   "outputs": [
    {
     "data": {
      "text/plain": [
       "142.24625223287126"
      ]
     },
     "execution_count": 178,
     "metadata": {},
     "output_type": "execute_result"
    }
   ],
   "source": [
    "# размер выборки в Python\n",
    "import statsmodels.stats.api as sms\n",
    "es = (11-10)/3 # 11-10: какую разницу хотим обнаружить, 3- среднеквадратичное отклонение\n",
    "sms.TTestIndPower().solve_power(es, power=0.8, alpha=0.05, ratio=1) # ratio - соотношение выборок, зададим равные"
   ]
  },
  {
   "cell_type": "code",
   "execution_count": 187,
   "id": "2b907247",
   "metadata": {},
   "outputs": [
    {
     "data": {
      "text/plain": [
       "141.11999999999998"
      ]
     },
     "execution_count": 187,
     "metadata": {},
     "output_type": "execute_result"
    }
   ],
   "source": [
    "# по формуле Сравнение двух средних http://pubhealth.spb.ru/COPC/STATSH/ssize.htm\n",
    "# n=(A+B)**2*2*SD**2/DIFF**2 \n",
    "# где A, B коэффициенты, зависищие от уровня значимости и мощности. А: {5%: 1.96, 1% :2.58}\n",
    "# В: {80%: 0.84, 90%: 1.28, 95%: 1.64}\n",
    "(1.96+0.84)**2*2*3**2/(11-10)**2"
   ]
  },
  {
   "cell_type": "code",
   "execution_count": 194,
   "id": "a42d6497",
   "metadata": {},
   "outputs": [
    {
     "data": {
      "text/plain": [
       "0.7704852592790578"
      ]
     },
     "execution_count": 194,
     "metadata": {},
     "output_type": "execute_result"
    }
   ],
   "source": [
    "# Интересно посмотреть по нашей выборке А, какое необходимо провести количество экспериментом, чтобы \n",
    "# статистически зафиксировать эффект (в %) разницы средних:\n",
    "(samples_B.mean()-samples_A.mean())/samples_A.mean()*100"
   ]
  },
  {
   "cell_type": "code",
   "execution_count": 196,
   "id": "c24f7f54",
   "metadata": {},
   "outputs": [
    {
     "data": {
      "text/plain": [
       "250.5027444557408"
      ]
     },
     "execution_count": 196,
     "metadata": {},
     "output_type": "execute_result"
    }
   ],
   "source": [
    "es = (samples_B.mean()-samples_A.mean())/samples_A.std() \n",
    "sms.TTestIndPower().solve_power(es, power=0.8, alpha=0.05, ratio=1)"
   ]
  },
  {
   "cell_type": "markdown",
   "id": "4bd1f8bb",
   "metadata": {},
   "source": [
    "# Применимость t-теста:"
   ]
  },
  {
   "cell_type": "markdown",
   "id": "836fc7e2",
   "metadata": {},
   "source": [
    "Алгоритм\n",
    "- Смотрим распределение данных (если нормальное = ок, распределение средних тоже будет нормальным/Стьюдента для малых выборок)\n",
    "- Если нет, то бутстрепом смотрим распределение средних. Если нормальное = ок\n",
    "- Если нет, используем тест mannwhitneyu (from scipy.stats import mannwhitneyu) - непараметрический тест, основан на рангах (Mann–Whitney–Wilcoxon (WMW))\n",
    "- Альтетнатива 1, берем логарифм от данных (метод понижения дисперсии), логарифм -> параметрический критерий\n",
    "- Альтьернатива 2 - бутстреп"
   ]
  },
  {
   "cell_type": "code",
   "execution_count": 202,
   "id": "da821572",
   "metadata": {},
   "outputs": [
    {
     "data": {
      "text/plain": [
       "100"
      ]
     },
     "execution_count": 202,
     "metadata": {},
     "output_type": "execute_result"
    }
   ],
   "source": [
    "len(samples_A)"
   ]
  },
  {
   "cell_type": "markdown",
   "id": "df1bccf0",
   "metadata": {},
   "source": [
    "Проверим нормальность распределения для samples_A:"
   ]
  },
  {
   "cell_type": "code",
   "execution_count": 197,
   "id": "ccc8ba40",
   "metadata": {},
   "outputs": [
    {
     "data": {
      "image/png": "[encoded data removed]",
      "text/plain": [
       "<Figure size 640x480 with 1 Axes>"
      ]
     },
     "metadata": {},
     "output_type": "display_data"
    }
   ],
   "source": [
    "import pylab \n",
    "import scipy.stats as stats\n",
    "   \n",
    "stats.probplot(samples_A, dist=\"norm\", plot=pylab)\n",
    "pylab.show()"
   ]
  },
  {
   "cell_type": "markdown",
   "id": "a91372d6",
   "metadata": {},
   "source": [
    "Видно, что распределение не очень то нормальное (возможно, просто мало данных). Попробуем через бутстреп создать множество выборок с размером 250 и посмотреть на распределение средних."
   ]
  },
  {
   "cell_type": "code",
   "execution_count": 206,
   "id": "5fe2b972",
   "metadata": {},
   "outputs": [],
   "source": [
    "mean_distribution = pd.Series([samples_A.sample(n=250, replace=True, random_state=state).mean() for _ in range(10000)])"
   ]
  },
  {
   "cell_type": "code",
   "execution_count": 207,
   "id": "924467bd",
   "metadata": {},
   "outputs": [
    {
     "data": {
      "image/png": "[encoded data removed]",
      "text/plain": [
       "<Figure size 640x480 with 1 Axes>"
      ]
     },
     "metadata": {},
     "output_type": "display_data"
    }
   ],
   "source": [
    "stats.probplot(mean_distribution, dist=\"norm\", plot=pylab)\n",
    "pylab.show()"
   ]
  },
  {
   "cell_type": "markdown",
   "id": "b5f437a1",
   "metadata": {},
   "source": [
    "Очевидно, что выброчные средние распределены нормально, t-test можно использовать."
   ]
  },
  {
   "cell_type": "markdown",
   "id": "704ac77e",
   "metadata": {},
   "source": [
    "# Бинарное распределение"
   ]
  },
  {
   "cell_type": "markdown",
   "id": "3a031340",
   "metadata": {},
   "source": [
    "### Задача\n",
    "- Мы запустили новый лэндинг и хотим проверить его эффективность. Необходимо посчитать необходимый размер выборки при следующих допущениях:\n",
    "- Statistical power = 80%, Significance level = 5%, convercion rate = 10%.\n",
    "- Предположим, конверсия на лэндинге увеличилась до 13%. Какие выводы мы должны сделать?"
   ]
  },
  {
   "cell_type": "markdown",
   "id": "8fd9dfdc",
   "metadata": {},
   "source": [
    "Для бинарного распределения, размер выборки. Sample Size Calculator \n",
    "https://www.evanmiller.org/ab-testing/sample-size.html\n",
    "- Мощность(Statistical power) - процент экспериментов, в которых мы сможем зафиксировать разницу при условии, что она действительно есть (при мощности = 0.8 в 20% случаев мы не сможем отвергнуть нулевую гипотезу при том, что что на самом деле разница будет). 1- Оши́бка второ́го ро́да.\n",
    "- Alfha (Significance level) - процент экспериментов, которые покажут разницу при том, что на самом деле, ее не будет. Оши́бка пе́рвого ро́да, false positive."
   ]
  },
  {
   "cell_type": "markdown",
   "id": "72194ee9",
   "metadata": {},
   "source": [
    "#### Калькулятор просит для нас еще одно условие: Minimum Detectable Effect, т.е. какую минимальную разницу в показателях мы хотим обнаружить. Чем меньше разница, тем больше размер выборки. Предположим, мы задали разницу 5% (т.е. если новая конверсия будет в диапазоне 5-15%, то тест не покажет значимой разницы). Размер выборки при этом составит 599."
   ]
  },
  {
   "cell_type": "code",
   "execution_count": 99,
   "id": "1d675020",
   "metadata": {},
   "outputs": [
    {
     "data": {
      "text/plain": [
       "680.3526619127882"
      ]
     },
     "execution_count": 99,
     "metadata": {},
     "output_type": "execute_result"
    }
   ],
   "source": [
    "# размер выборки в Python\n",
    "import statsmodels.stats.api as sms\n",
    "es = sms.proportion_effectsize(0.10, 0.15)\n",
    "sms.NormalIndPower().solve_power(es, power=0.8, alpha=0.05, ratio=1) # ratio - соотношение выборок, зададим равные"
   ]
  },
  {
   "cell_type": "markdown",
   "id": "f6c34f67",
   "metadata": {},
   "source": [
    "Возьмем для надежности бОльший показатель выборки = 680"
   ]
  },
  {
   "cell_type": "markdown",
   "id": "8322ee10",
   "metadata": {},
   "source": [
    "Посмотрим, как могли бы различаться выборки A и B и pvalue Т-теста при априори верной гипотезе от том, что выборки различаются (у А вероятность конверсии 10%, у B - 13%)"
   ]
  },
  {
   "cell_type": "code",
   "execution_count": 151,
   "id": "34f098f2",
   "metadata": {},
   "outputs": [
    {
     "data": {
      "text/plain": [
       "0.5987"
      ]
     },
     "execution_count": 151,
     "metadata": {},
     "output_type": "execute_result"
    }
   ],
   "source": [
    "from scipy import stats as st\n",
    "\n",
    "pvalues = []\n",
    "for _ in range (10000):\n",
    "    A = np.random.binomial(1, 0.10, 680)\n",
    "    B = np.random.binomial(1, 0.13, 680)\n",
    "    results = st.ttest_ind(A, B, equal_var = False)\n",
    "    pvalues.append(results.pvalue)\n",
    "(pd.Series(pvalues) > alpha).mean() # \"Не получилось отвергнуть нулевую гипотезу\""
   ]
  },
  {
   "cell_type": "markdown",
   "id": "aceac9a9",
   "metadata": {},
   "source": [
    "Как мы видим, в 60% случаев тест не видит разницы между двумя выборками при том, что она есть. И это справедливо: мы рассчитали размер выборки исходя из ожидаемого эффекта в 5%, а у фактически у нас было 3%. "
   ]
  },
  {
   "cell_type": "markdown",
   "id": "8acfc4d9",
   "metadata": {},
   "source": [
    "Перейдем теперь к нашей задаче и условием роста конверсии с 10% и 13% и неверно определенным размером выборки (680)"
   ]
  },
  {
   "cell_type": "code",
   "execution_count": 156,
   "id": "afb9a6c5",
   "metadata": {},
   "outputs": [
    {
     "data": {
      "text/html": [
       "<div>\n",
       "<style scoped>\n",
       "    .dataframe tbody tr th:only-of-type {\n",
       "        vertical-align: middle;\n",
       "    }\n",
       "\n",
       "    .dataframe tbody tr th {\n",
       "        vertical-align: top;\n",
       "    }\n",
       "\n",
       "    .dataframe thead th {\n",
       "        text-align: right;\n",
       "    }\n",
       "</style>\n",
       "<table border=\"1\" class=\"dataframe\">\n",
       "  <thead>\n",
       "    <tr style=\"text-align: right;\">\n",
       "      <th></th>\n",
       "      <th>leads</th>\n",
       "      <th>conv</th>\n",
       "      <th>orders</th>\n",
       "    </tr>\n",
       "  </thead>\n",
       "  <tbody>\n",
       "    <tr>\n",
       "      <th>old</th>\n",
       "      <td>680</td>\n",
       "      <td>0.10</td>\n",
       "      <td>68.0</td>\n",
       "    </tr>\n",
       "    <tr>\n",
       "      <th>new</th>\n",
       "      <td>680</td>\n",
       "      <td>0.13</td>\n",
       "      <td>88.4</td>\n",
       "    </tr>\n",
       "  </tbody>\n",
       "</table>\n",
       "</div>"
      ],
      "text/plain": [
       "     leads  conv  orders\n",
       "old    680  0.10    68.0\n",
       "new    680  0.13    88.4"
      ]
     },
     "execution_count": 156,
     "metadata": {},
     "output_type": "execute_result"
    }
   ],
   "source": [
    "df = pd.DataFrame({'leads':[680, 680], 'conv':[0.1,0.13]}, index=['old', 'new'])\n",
    "df['orders'] = df.leads * df.conv\n",
    "df"
   ]
  },
  {
   "cell_type": "code",
   "execution_count": 157,
   "id": "e8a4a8f8",
   "metadata": {},
   "outputs": [
    {
     "data": {
      "text/plain": [
       "0.08292441340950867"
      ]
     },
     "execution_count": 157,
     "metadata": {},
     "output_type": "execute_result"
    }
   ],
   "source": [
    "from statsmodels.stats.proportion import proportions_ztest\n",
    "leads = df.leads.values\n",
    "orders = df.orders.values\n",
    "proportions_ztest(orders, leads)[1]"
   ]
  },
  {
   "cell_type": "markdown",
   "id": "d5a2ce57",
   "metadata": {},
   "source": [
    "Запустив Z-test получаем pvalue 0.08. Это значит, что вероятность получить такию же или бОльшую разницу между случайными выборками составляет 8%. По этой причине мы не можем отвергнуть нулевую гипотезу о том, что среднее двух выборок не имееет различий."
   ]
  },
  {
   "cell_type": "markdown",
   "id": "c1bb8748",
   "metadata": {},
   "source": [
    "#### Необходимо увеличить размеры выборок. Пускай теперь мы хотим обнаружить эффект +- 3%"
   ]
  },
  {
   "cell_type": "code",
   "execution_count": 161,
   "id": "ea109b82",
   "metadata": {},
   "outputs": [
    {
     "data": {
      "text/plain": [
       "1768.0950485742067"
      ]
     },
     "execution_count": 161,
     "metadata": {},
     "output_type": "execute_result"
    }
   ],
   "source": [
    "es = sms.proportion_effectsize(0.10, 0.13)\n",
    "sms.NormalIndPower().solve_power(es, power=0.8, alpha=0.05, ratio=1) # ratio - соотношение выборок, зададим равные\n",
    "# если бы параметр был бы 1/3, то функция вернула бы размер основной выборки (А), а размер В надо было посчитать \n",
    "# умножив А х 1/3"
   ]
  },
  {
   "cell_type": "code",
   "execution_count": 153,
   "id": "4c8a9715",
   "metadata": {},
   "outputs": [
    {
     "data": {
      "text/plain": [
       "0.2003"
      ]
     },
     "execution_count": 153,
     "metadata": {},
     "output_type": "execute_result"
    }
   ],
   "source": [
    "pvalues = []\n",
    "for _ in range (10000):\n",
    "    A = np.random.binomial(1, 0.10, 1768)\n",
    "    B = np.random.binomial(1, 0.13, 1768)\n",
    "    results = st.ttest_ind(A, B, equal_var = False)\n",
    "    pvalues.append(results.pvalue)\n",
    "(pd.Series(pvalues) > alpha).mean() # \"Не получилось отвергнуть нулевую гипотезу\""
   ]
  },
  {
   "cell_type": "markdown",
   "id": "9f2f8b32",
   "metadata": {},
   "source": [
    "Теперь тест не видит разности в 20% случаев, при том, что она действительно есть. Собственно, это и есть наша заданная мощность (1-0.8 = 0.2)"
   ]
  },
  {
   "cell_type": "code",
   "execution_count": 213,
   "id": "d514f390",
   "metadata": {},
   "outputs": [
    {
     "data": {
      "text/plain": [
       "0.0479"
      ]
     },
     "execution_count": 213,
     "metadata": {},
     "output_type": "execute_result"
    }
   ],
   "source": [
    "pvalues = []\n",
    "for _ in range (10000):\n",
    "    A = np.random.binomial(1, 0.10, 1768)\n",
    "    B = np.random.binomial(1, 0.10, 1768)\n",
    "    results = st.ttest_ind(A, B, equal_var = False)\n",
    "    pvalues.append(results.pvalue)\n",
    "(pd.Series(pvalues) < alpha).mean() # \"Отвергли нулевую гипотезу\""
   ]
  },
  {
   "cell_type": "markdown",
   "id": "7e6f9d82",
   "metadata": {},
   "source": [
    "Наш уровень alpha можно получить, проверяя заведомо равные выборки и оценивая процент случаев, в которых верная нулевая гипотеза будет отвергнута."
   ]
  },
  {
   "cell_type": "code",
   "execution_count": 158,
   "id": "793a2e8f",
   "metadata": {},
   "outputs": [
    {
     "data": {
      "text/html": [
       "<div>\n",
       "<style scoped>\n",
       "    .dataframe tbody tr th:only-of-type {\n",
       "        vertical-align: middle;\n",
       "    }\n",
       "\n",
       "    .dataframe tbody tr th {\n",
       "        vertical-align: top;\n",
       "    }\n",
       "\n",
       "    .dataframe thead th {\n",
       "        text-align: right;\n",
       "    }\n",
       "</style>\n",
       "<table border=\"1\" class=\"dataframe\">\n",
       "  <thead>\n",
       "    <tr style=\"text-align: right;\">\n",
       "      <th></th>\n",
       "      <th>leads</th>\n",
       "      <th>conv</th>\n",
       "      <th>orders</th>\n",
       "    </tr>\n",
       "  </thead>\n",
       "  <tbody>\n",
       "    <tr>\n",
       "      <th>old</th>\n",
       "      <td>1768</td>\n",
       "      <td>0.10</td>\n",
       "      <td>176.80</td>\n",
       "    </tr>\n",
       "    <tr>\n",
       "      <th>new</th>\n",
       "      <td>1768</td>\n",
       "      <td>0.13</td>\n",
       "      <td>229.84</td>\n",
       "    </tr>\n",
       "  </tbody>\n",
       "</table>\n",
       "</div>"
      ],
      "text/plain": [
       "     leads  conv  orders\n",
       "old   1768  0.10  176.80\n",
       "new   1768  0.13  229.84"
      ]
     },
     "execution_count": 158,
     "metadata": {},
     "output_type": "execute_result"
    }
   ],
   "source": [
    "df = pd.DataFrame({'leads':[1768, 1768], 'conv':[0.1,0.13]}, index=['old', 'new'])\n",
    "df['orders'] = df.leads * df.conv\n",
    "df"
   ]
  },
  {
   "cell_type": "code",
   "execution_count": 159,
   "id": "b9d854f3",
   "metadata": {},
   "outputs": [
    {
     "data": {
      "text/plain": [
       "0.005175005364252356"
      ]
     },
     "execution_count": 159,
     "metadata": {},
     "output_type": "execute_result"
    }
   ],
   "source": [
    "leads = df.leads.values\n",
    "orders = df.orders.values\n",
    "proportions_ztest(orders, leads)[1]"
   ]
  },
  {
   "cell_type": "markdown",
   "id": "6c979c65",
   "metadata": {},
   "source": [
    "Здесь мы смело можем отвергнуть гипотезу о равенстве средних и заявить о том, что эффект роста конверсии с 10% до 13% имеет место быть. При этом, при данных объемах выборки, вероятность получить такую или большую разницу на случайных выборках составляет 0.5%"
   ]
  },
  {
   "cell_type": "code",
   "execution_count": null,
   "id": "808ce345",
   "metadata": {},
   "outputs": [],
   "source": []
  },
  {
   "cell_type": "raw",
   "id": "6231270a",
   "metadata": {},
   "source": [
    "Проверьте по приведённому датасету дневной выручки за последний месяц гипотезу, что ваш интернет-проект стал приносить не меньше 50000 рублей в день.\n",
    "Напомним: включающая знак равенства гипотеза обычно нулевая. Поэтому «всё сложится, как коуч прописал» — это ваша нулевая гипотеза, а «выручка меньше заявленного» — альтернативная.\n",
    "from scipy import stats as st\n",
    "import numpy as np\n",
    "import pandas as pd\n",
    "revenue = pd.read_csv('/datasets/revenue.csv', header = None)\n",
    "revenue = revenue.loc[:, 0]\n",
    "interested_value = 50000 # сколько обещал бизнес-коуч?\n",
    "alpha = 0.05# укажите критический уровень статистической значимости\n",
    "results = st.ttest_1samp(\n",
    "    revenue,\n",
    "    interested_value)\n",
    "print('p-значение:', results.pvalue/2) # добавьте в аргумент p-value для одностороннего теста\n",
    "if (results.pvalue/2 <alpha) and (revenue.mean()<interested_value): # сравните полученный и критический уровени значимости\n",
    "    # и проверьте, что выборочное среднее с нужной стороны от interested_value):\n",
    "    print(\"Отвергаем нулевую гипотезу: выручка значимо меньше 50 тысяч\")\n",
    "else:\n",
    "    print(\"Не получилось отвергнуть нулевую гипотезу: выручка достигает запланированных показателей\")"
   ]
  },
  {
   "cell_type": "raw",
   "id": "b803d464",
   "metadata": {},
   "source": [
    "Когда генеральная совокупность одна, полезно понять, равно ли себе среднее этой совокупности до и после какого-то изменения.\n",
    "Например, вам нужно сравнить, будет ли отличаться вес заказываемых пользователями посылок после того, как вы изменили расчёт оплаты доставки.\n",
    "Парная выборка означает, что измеряется некоторая переменная дважды для одних и тех же единиц. В нашем примере это пара измерений для каждого пользователя — до и после изменения расчёта.\n",
    "Чтобы проверить гипотезу о равенстве средних двух генеральных совокупностей для зависимых (парных) выборок в Python, применим метод scipy.stats.ttest_rel().\n",
    "Ей достаточно передать всего два параметра: массивы с данными до и после. Размеры массивов должны быть одинаковы: каждое измерение должно быть проведено до и после изменения.\n",
    "Приведены два датасета: вес посылок в граммах до и после изменения способа расчёта оплаты доставки у одних и тех же потребителей. Проверьте гипотезу о том, что вес посылок не изменился, несмотря на то, что способ расчёта оплаты доставки стал другим.\n",
    "from scipy import stats as st\n",
    "import numpy as np\n",
    "\n",
    "before = [157, 114, 152, 355, 155, 513, 299, 268, 164, 320, \n",
    "          192, 262, 506, 240, 364, 179, 246, 427, 187, 431, \n",
    "          320, 193, 313, 347, 312, 92, 177, 225, 242, 312]\n",
    "\n",
    "after = [282, 220, 162, 226, 296, 479, 248, 322, 298, 418, \n",
    "         552, 246, 251, 404, 368, 484, 358, 264, 359, 410, \n",
    "         382, 350, 406, 416, 438, 364, 283, 314, 420, 218]\n",
    "\n",
    "alpha = .05 # критический уровень статистической значимости\n",
    "\n",
    "results = st.ttest_rel(\n",
    "    before, \n",
    "    after)\n",
    "\n",
    "print('p-значение: ', results.pvalue)\n",
    "\n",
    "if results.pvalue < alpha:\n",
    "    print(\"Отвергаем нулевую гипотезу\")\n",
    "else:\n",
    "    print(\"Не получилось отвергнуть нулевую гипотезу\") \n",
    "Результат:\n",
    "p-значение:  0.005825972457958989\n",
    "Отвергаем нулевую гипотезу "
   ]
  }
 ],
 "metadata": {
  "kernelspec": {
   "display_name": "Python 3 (ipykernel)",
   "language": "python",
   "name": "python3"
  },
  "language_info": {
   "codemirror_mode": {
    "name": "ipython",
    "version": 3
   },
   "file_extension": ".py",
   "mimetype": "text/x-python",
   "name": "python",
   "nbconvert_exporter": "python",
   "pygments_lexer": "ipython3",
   "version": "3.9.13"
  },
  "toc": {
   "base_numbering": 1,
   "nav_menu": {},
   "number_sections": true,
   "sideBar": true,
   "skip_h1_title": true,
   "title_cell": "Table of Contents",
   "title_sidebar": "Contents",
   "toc_cell": false,
   "toc_position": {},
   "toc_section_display": true,
   "toc_window_display": false
  }
 },
 "nbformat": 4,
 "nbformat_minor": 5
}
