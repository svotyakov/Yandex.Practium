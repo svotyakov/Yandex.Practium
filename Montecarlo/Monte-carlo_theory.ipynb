{
 "cells": [
  {
   "cell_type": "markdown",
   "id": "0caa5df7",
   "metadata": {},
   "source": [
    "# Метод Монте-Карло"
   ]
  },
  {
   "cell_type": "markdown",
   "id": "fb52c438",
   "metadata": {},
   "source": [
    "Судь метода в том, что при многократном повторении эксперимента, распределение его значений приближается к вероятностям наступления данных событий.\n",
    "- Метод очень удобен, когда надо решить сложную задачу с использованием статистики/вероятностей или проверить результаты, полученные по формуле."
   ]
  },
  {
   "cell_type": "markdown",
   "id": "8ee55975",
   "metadata": {},
   "source": [
    "### Задача: \n",
    "- В комнате собрались 23 человека. Какая вероятность, что кого-то из этих людей совпали дни рождения? (парадокс дней рождений)"
   ]
  },
  {
   "cell_type": "code",
   "execution_count": 26,
   "id": "8d3f0e35",
   "metadata": {},
   "outputs": [],
   "source": [
    "import pandas as pd\n",
    "import numpy as np\n",
    "from math import factorial"
   ]
  },
  {
   "cell_type": "code",
   "execution_count": 13,
   "id": "9abb2728",
   "metadata": {},
   "outputs": [
    {
     "data": {
      "text/plain": [
       "0.501"
      ]
     },
     "execution_count": 13,
     "metadata": {},
     "output_type": "execute_result"
    }
   ],
   "source": [
    "dr = pd.Series(range(365)) # создаем список с возможными днями рождения\n",
    "coincidence = [dr.sample(23, replace=True).duplicated().max() for _ in range(10000)] #duplicated() ищет дубликаты \n",
    "                                                                                     # в полученном списке\n",
    "pd.Series(coincidence).mean()"
   ]
  },
  {
   "cell_type": "markdown",
   "id": "b1a91eb8",
   "metadata": {},
   "source": [
    "Задача имееет аналитическое решение:\n",
    "- Будем отталкиваться от дополняющей вероятности, т.е. что дни рождения ни у кого не совпали\n",
    "- Дополняющая вероятность считается так: 364/365 * (363/365) *...* ((365-n+1)/365)  =  365! / (365-n)! / 365**n"
   ]
  },
  {
   "cell_type": "code",
   "execution_count": 28,
   "id": "75ab073b",
   "metadata": {},
   "outputs": [
    {
     "data": {
      "text/plain": [
       "0.5072972343239854"
      ]
     },
     "execution_count": 28,
     "metadata": {},
     "output_type": "execute_result"
    }
   ],
   "source": [
    "1-factorial(365)/factorial(365-23)/365**23"
   ]
  },
  {
   "cell_type": "markdown",
   "id": "9bf89966",
   "metadata": {},
   "source": [
    "### Задача: \n",
    "- Ночью произошло ДТП с участием такси. В городе работают две компании такси — «Синие» и «Зелёные». «Зелёным» принадлежит 85% такси, «Синим» 15%. Свидетель аварии утверждает, что такси принадлежало «Синим». Следственный эксперимент показал, что ночью свидетель верно определяет цвет такси в 80%. Какова вероятность того, что такси действительно принадлежало «Синим»?"
   ]
  },
  {
   "cell_type": "code",
   "execution_count": 33,
   "id": "70c730ac",
   "metadata": {},
   "outputs": [
    {
     "data": {
      "text/plain": [
       "0"
      ]
     },
     "execution_count": 33,
     "metadata": {},
     "output_type": "execute_result"
    }
   ],
   "source": [
    "np.random.binomial(1, 0.15) #генератор, который выдает '1' (синее такси) в 15% случаев (т.к. Синих 15%)\n",
    "\n",
    "np.random.binomial(1, 0.8) # генератор, который имитирует показание свидетеля при синей машине\n",
    "np.random.binomial(1, 0.2) # генератор, который имитирует показание свидетеля при зеленой машине"
   ]
  },
  {
   "cell_type": "code",
   "execution_count": 36,
   "id": "470170cc",
   "metadata": {},
   "outputs": [
    {
     "data": {
      "text/plain": [
       "0.4137357496794761"
      ]
     },
     "execution_count": 36,
     "metadata": {},
     "output_type": "execute_result"
    }
   ],
   "source": [
    "witness = [] # список со значениями, когда свидетель сказал, что видел синюю машину\n",
    "real = [] # список со значениями, когда свидетель сказал, что видел синюю машину и она действительно была синей\n",
    "for _ in range(100000):\n",
    "    if np.random.binomial(1, 0.15) ==1: # машина синяя\n",
    "        witness.append(np.random.binomial(1, 0.8)) # свидетель прав только в 80% случаев\n",
    "        real.append(np.random.binomial(1, 0.8))\n",
    "    else: # машина зеленая\n",
    "        witness.append(np.random.binomial(1, 0.2)) # свидетель не прав в 20%\n",
    "        real.append(0) # тут 0, т.к. мы знаем, что машина была зеленая np.random.binomial(1, 0.15) ==0\n",
    "pd.Series(real).sum() / pd.Series(witness).sum() "
   ]
  },
  {
   "cell_type": "markdown",
   "id": "ac2b619b",
   "metadata": {},
   "source": [
    "Сама задача довольно легко решается аналитически. Из 100 случаев аварий, в 85 будут участвовать зеленые машины, в 15 - синие.\n",
    "- Свидетель угадает 15 х 0.8 синих машин = 12\n",
    "- Но ошибется в 85*0.2 = 17 машинах.\n",
    "- Вероятность, что названное свиделем такси действительно синее: 12/(12+17) = 0.413"
   ]
  },
  {
   "cell_type": "markdown",
   "id": "a1971856",
   "metadata": {},
   "source": [
    "### Задача:\n",
    "- Вирус XYZ находят в среднем у одного человека из тысячи. Существует тест, показывающий, заражён человек XYZ или нет. Однако этот тест в 5% даёт ложное срабатывание — показывает факт заражения, когда на самом деле человек здоров.\n",
    "- Предположим, что тестирование взятого наугад человека показало, что он XYZ-инфицирован. Какова вероятность того, что он на самом деле болен?"
   ]
  },
  {
   "cell_type": "code",
   "execution_count": 63,
   "id": "ba9f0421",
   "metadata": {},
   "outputs": [
    {
     "data": {
      "text/plain": [
       "0.018525741029641187"
      ]
     },
     "execution_count": 63,
     "metadata": {},
     "output_type": "execute_result"
    }
   ],
   "source": [
    "test = [] # случаи положительного срабатывания теста\n",
    "real = [] # случаи, когда человек реально был заражен\n",
    "\n",
    "for _ in range(100000):\n",
    "    if np.random.binomial(1, 0.001) ==1: # вероятность,что человек болен 0.1% (1/1000)\n",
    "        test.append(np.random.binomial(1, 0.95)) # тест определит больного человека в 95% случаев\n",
    "        real.append(np.random.binomial(1, 0.95))\n",
    "    else: # человек здоров\n",
    "        test.append(np.random.binomial(1, 0.05)) # тест может быть ложноположительным\n",
    "        real.append(0) # тут 0, т.к. мы знаем, что человек здоров\n",
    "pd.Series(real).sum() / pd.Series(test).sum() "
   ]
  },
  {
   "cell_type": "markdown",
   "id": "768677a7",
   "metadata": {},
   "source": [
    "Аналитическое решение тут аналогичное предыдущей задаче:\n",
    "- Мы провели 1000 тестирований. Согласно условию задачи, у нас должен быть 1 зараженный человек и 999 здоровых. И выявим мы этого зараженного в 95% случаев, т.е. 1 х 0.95\n",
    "- При проведении тестирования, тест покажет положительный результат: 1 х 0.95(тот самый зараженный) + 999 х 0.05(ложные срабатывания) = 50.9 человек\n",
    "- Отношение 1*0.95 к 50.9 и будет нашей вероятностью (0.0186)"
   ]
  },
  {
   "cell_type": "markdown",
   "id": "d1b35dcb",
   "metadata": {},
   "source": [
    "В целом эти решения связаны с условной вероятностью и описываются формулой Байеса:"
   ]
  },
  {
   "attachments": {
    "1_cZc4ICYYheIZf1Py358C-w.png": {
     "image/png": "[encoded data removed]"
    }
   },
   "cell_type": "markdown",
   "id": "a6f71708",
   "metadata": {},
   "source": [
    "![1_cZc4ICYYheIZf1Py358C-w.png](attachment:1_cZc4ICYYheIZf1Py358C-w.png)"
   ]
  },
  {
   "cell_type": "code",
   "execution_count": 56,
   "id": "acef7fda",
   "metadata": {},
   "outputs": [
    {
     "data": {
      "text/plain": [
       "0.018664047151277015"
      ]
     },
     "execution_count": 56,
     "metadata": {},
     "output_type": "execute_result"
    }
   ],
   "source": [
    "# P(A|B) - вероятность, что человек болен(A) при условии, что тест дал положительный результат (В)\n",
    "# P(B|A) = 0.95 - тест правильно определяет заболевшего в 95% случаев\n",
    "# P(A) = 0.001 - вероятность, что человек болен\n",
    "# P(B) = 0.001*0.95(болен) + 0.999*0.05(здоров, ложноположительный)\n",
    "0.95*0.001/(0.95*0.001+0.05*0.999)"
   ]
  },
  {
   "cell_type": "markdown",
   "id": "0d4d942a",
   "metadata": {},
   "source": [
    "### Задача\n",
    "- Студет выучил 20 билетов из 30. Изменится ли вероятность сдачи экзамена, если он пойдет в класс не первым, а вторым?"
   ]
  },
  {
   "cell_type": "code",
   "execution_count": 65,
   "id": "7ed790b8",
   "metadata": {},
   "outputs": [
    {
     "data": {
      "text/plain": [
       "[1, 2, 3, 4, 5, 6, 7, 8, 9, 10, 11, 12, 13, 14, 15, 16, 17, 18, 19, 20]"
      ]
     },
     "execution_count": 65,
     "metadata": {},
     "output_type": "execute_result"
    }
   ],
   "source": [
    "student = list(range(1,21)) # то, что знает студент\n",
    "tickets = list(range(1,31)) # все билеты\n",
    "student"
   ]
  },
  {
   "cell_type": "code",
   "execution_count": 83,
   "id": "14e3b5ba",
   "metadata": {},
   "outputs": [
    {
     "name": "stdout",
     "output_type": "stream",
     "text": [
      "0.66656\n"
     ]
    }
   ],
   "source": [
    "from random import shuffle\n",
    "n=100000\n",
    "counter = 0\n",
    "for _ in range(n):\n",
    "    tickets = list(range(1,31))\n",
    "    shuffle(tickets)\n",
    "    if tickets[0] in student:\n",
    "        counter +=1\n",
    "print(counter/n)      "
   ]
  },
  {
   "cell_type": "code",
   "execution_count": 87,
   "id": "3361d07b",
   "metadata": {},
   "outputs": [
    {
     "name": "stdout",
     "output_type": "stream",
     "text": [
      "0.6658\n"
     ]
    }
   ],
   "source": [
    "n=100000\n",
    "counter = 0\n",
    "for _ in range(n):\n",
    "    tickets = list(range(1,31))\n",
    "    shuffle(tickets)\n",
    "    tickets.pop(0) # кто-то пошел первым и вытянул один билет\n",
    "    shuffle(tickets)\n",
    "    if tickets[0] in student:\n",
    "        counter +=1\n",
    "print(counter/n) "
   ]
  },
  {
   "cell_type": "markdown",
   "id": "1169864d",
   "metadata": {},
   "source": [
    "Аналитическое решение:\n",
    "- Вероятность, что студен сдаст экзамен, если пойдет первым: 20/30 = 0.666\n",
    "- Если студент пойдет вторым, то вероятность сдачи: 2/3*(19/29) + (1/3)*20/29 = 0.666 (здесь 2/3 - это вероятность, что первый студент вытащит билет, который знает второй студент 20/30)"
   ]
  },
  {
   "cell_type": "markdown",
   "id": "16c4bce2",
   "metadata": {},
   "source": [
    "### Задача\n",
    "- Русская рулетка. Есть револьвер с 2 вставленными подряд патронами. Первый участник крутит барабан и стреляет и остается жив. Что лучше для второго участника: покрутить барабан или сразу нажать на курок?"
   ]
  },
  {
   "cell_type": "code",
   "execution_count": 105,
   "id": "f4209b2c",
   "metadata": {},
   "outputs": [],
   "source": [
    "revolver = [1,1,0,0,0,0]\n",
    "def revolver_step(revolver): # функция сдвигает барабан на одну позицию\n",
    "    new_revolver = [0,0,0,0,0,0]\n",
    "    for i in range(len(revolver)):\n",
    "        if i < len(revolver)-1:\n",
    "            new_revolver[i+1] = revolver[i]\n",
    "        else:\n",
    "            new_revolver[0] = revolver[i]\n",
    "    return new_revolver\n",
    "\n",
    "def revolver_shuffle(revolver): #функция имитирует раскрутку барабана. У барабана есть только 6 позиций\n",
    "    n= np.random.randint(1,7)                                 #, которые выпадают с равной вероятностью\n",
    "    for _ in range(n):\n",
    "        revolver = revolver_step(revolver)\n",
    "    return revolver"
   ]
  },
  {
   "cell_type": "code",
   "execution_count": 119,
   "id": "3c8ae1de",
   "metadata": {},
   "outputs": [
    {
     "data": {
      "text/plain": [
       "[1, 0, 0, 0, 0, 1]    0.16791\n",
       "[1, 1, 0, 0, 0, 0]    0.16781\n",
       "[0, 1, 1, 0, 0, 0]    0.16699\n",
       "[0, 0, 0, 1, 1, 0]    0.16620\n",
       "[0, 0, 0, 0, 1, 1]    0.16610\n",
       "[0, 0, 1, 1, 0, 0]    0.16499\n",
       "dtype: float64"
      ]
     },
     "execution_count": 119,
     "metadata": {},
     "output_type": "execute_result"
    }
   ],
   "source": [
    "# в написанных функциях могут быть неточности, проверим, какое распределение дает наш револьвер:\n",
    "results = []\n",
    "for _ in range(100000):\n",
    "    results.append(revolver_shuffle(revolver))\n",
    "pd.Series(results).astype('str').value_counts(normalize=True)"
   ]
  },
  {
   "cell_type": "code",
   "execution_count": 124,
   "id": "65659d33",
   "metadata": {},
   "outputs": [],
   "source": [
    "# сымитируем процес, описанный в задании:\n",
    "first = revolver_shuffle(revolver) # первый учатник раскрутил барабан\n",
    "first = revolver_step(first) # при нажатии на курок, барабан сдвигается на одно деление\n",
    "if first[0]== 0:   #пускай боек бъет по всегда по нулевой позиции барабана\n",
    "    second_shot = revolver_step(first) # выстрелил сразу\n",
    "    second_rotate = revolver_shuffle(first) # покрутил барабан...\n",
    "    second_rotate = revolver_step(second_rotate)                  #... и выстрелил"
   ]
  },
  {
   "cell_type": "code",
   "execution_count": 126,
   "id": "924a54f5",
   "metadata": {},
   "outputs": [],
   "source": [
    "# завернем вышеописанный процесс в цикл, чтобы понять вероятности:\n",
    "n= 10000\n",
    "second_shot_ = []\n",
    "second_rotate_ = []\n",
    "for _ in range(n):\n",
    "    first = revolver_shuffle(revolver) \n",
    "    first = revolver_step(first) \n",
    "    if first[0]== 0: \n",
    "        second_shot_.append(revolver_step(first)[0]) \n",
    "        second_rotate = revolver_shuffle(first)\n",
    "        second_rotate_.append(revolver_step(second_rotate)[0])"
   ]
  },
  {
   "cell_type": "code",
   "execution_count": 128,
   "id": "11ef2da4",
   "metadata": {},
   "outputs": [
    {
     "data": {
      "text/plain": [
       "0.255873110878348"
      ]
     },
     "execution_count": 128,
     "metadata": {},
     "output_type": "execute_result"
    }
   ],
   "source": [
    "pd.Series(second_shot_).mean()"
   ]
  },
  {
   "cell_type": "code",
   "execution_count": 129,
   "id": "005847fa",
   "metadata": {},
   "outputs": [
    {
     "data": {
      "text/plain": [
       "0.3275475086039204"
      ]
     },
     "execution_count": 129,
     "metadata": {},
     "output_type": "execute_result"
    }
   ],
   "source": [
    "pd.Series(second_rotate_).mean()"
   ]
  },
  {
   "cell_type": "markdown",
   "id": "5194f166",
   "metadata": {},
   "source": [
    "Аналитический ответ:\n",
    "- Если мы раскручиваем барабан, то тут все ясно, вероятность 2/6 = 0.33\n",
    "- В результате первой попытки выстрела мы понимаем, что у нас может быть только такое расположение патронов: 011000, 001100, 000110, 000011. Фатальный для нас вариант №1(единичка сдвинется на место выстрела), его вероятность - 25%."
   ]
  },
  {
   "cell_type": "markdown",
   "id": "a281e2a6",
   "metadata": {},
   "source": [
    "### Задача (Яндекс)\n",
    "- На краудсорсинг-сервисе блогеры собирают донаты. Авторам лучшего контента вы дарите дополнительное продвижение: 5000 показов рекламы их творчества на главной странице сервиса. Блогеры довольны — с показов рекламы на их страницы переходит 15% пользователей. Это по 750 переходов с 5000 показов.\n",
    "- Один блогер — автор лучшего контента — получил лишь 715 переходов вместо ожидаемых 750. И возмутился, ведь в прошлый раз переходов было больше. Обратившись к статистике, разрешите конфликт с создателем контента. Насколько вероятно получить такое или меньшее число переходов?"
   ]
  },
  {
   "cell_type": "code",
   "execution_count": 138,
   "id": "f7d8f72b",
   "metadata": {},
   "outputs": [
    {
     "data": {
      "text/plain": [
       "0.0858"
      ]
     },
     "execution_count": 138,
     "metadata": {},
     "output_type": "execute_result"
    }
   ],
   "source": [
    "# воссоздаем ситуацию из задачи\n",
    "# генератор с вероятностью 15% выдает 1 - наше событие. Производим 5000 экспериментов, результат каждого сравниваем с 715\n",
    "# повторяем 10000 раз\n",
    "pd.Series([np.random.binomial(1, 0.15,5000).sum()<=715 for _ in range(10000)]).mean()"
   ]
  },
  {
   "cell_type": "code",
   "execution_count": 139,
   "id": "25c16349",
   "metadata": {},
   "outputs": [
    {
     "data": {
      "text/plain": [
       "0.08284191945650154"
      ]
     },
     "execution_count": 139,
     "metadata": {},
     "output_type": "execute_result"
    }
   ],
   "source": [
    "from scipy import stats as st\n",
    "import math as mt\n",
    "\n",
    "binom_n = 5000\n",
    "binom_p = 0.15\n",
    "bloger_clicks = 715\n",
    "\n",
    "mu = binom_n * binom_p #среднее для биномиального распределения\n",
    "sigma = mt.sqrt(binom_n * binom_p * (1 - binom_p)) # дисперсия для биномиального распределению\n",
    "\n",
    "p_clicks = st.norm(mu, sigma).cdf(bloger_clicks) # по параметрам биномиального распределения создаем \n",
    "# нормальное распределение позставляем его в кумулятивную функцию распределения \n",
    "#(функция показывает вероятность числа слева от значения)\n",
    "p_clicks"
   ]
  },
  {
   "cell_type": "markdown",
   "id": "76623b97",
   "metadata": {},
   "source": [
    "### Задача\n",
    "- Мы запустили новый лэндинг и хотим проверить его эффективность. 700 клиентов были отправлены на старую версию сайта, 300 - на новую. Со старой версии мы получили 70 заказов, с новой - 35. "
   ]
  },
  {
   "cell_type": "markdown",
   "id": "889c8af6",
   "metadata": {},
   "source": [
    "Идея проверки основана на том, что из двух выборок мы создаем одну, а потом пытаемся понять, можем ли при случайных разделениях этой выборки получить такую разность или больше. А вероятностью для нашего генератора будет выступать средняя конверсия по двум группам.\n",
    "- следует отметить, что решение задачи изначально началось некорректно: Предварительно надо было определелить размеры выборок для статистической значимости."
   ]
  },
  {
   "cell_type": "code",
   "execution_count": 148,
   "id": "21de52ce",
   "metadata": {},
   "outputs": [
    {
     "data": {
      "text/html": [
       "<div>\n",
       "<style scoped>\n",
       "    .dataframe tbody tr th:only-of-type {\n",
       "        vertical-align: middle;\n",
       "    }\n",
       "\n",
       "    .dataframe tbody tr th {\n",
       "        vertical-align: top;\n",
       "    }\n",
       "\n",
       "    .dataframe thead th {\n",
       "        text-align: right;\n",
       "    }\n",
       "</style>\n",
       "<table border=\"1\" class=\"dataframe\">\n",
       "  <thead>\n",
       "    <tr style=\"text-align: right;\">\n",
       "      <th></th>\n",
       "      <th>leads</th>\n",
       "      <th>orders</th>\n",
       "      <th>convercion</th>\n",
       "    </tr>\n",
       "  </thead>\n",
       "  <tbody>\n",
       "    <tr>\n",
       "      <th>old</th>\n",
       "      <td>700</td>\n",
       "      <td>70</td>\n",
       "      <td>0.100000</td>\n",
       "    </tr>\n",
       "    <tr>\n",
       "      <th>new</th>\n",
       "      <td>300</td>\n",
       "      <td>35</td>\n",
       "      <td>0.116667</td>\n",
       "    </tr>\n",
       "  </tbody>\n",
       "</table>\n",
       "</div>"
      ],
      "text/plain": [
       "     leads  orders  convercion\n",
       "old    700      70    0.100000\n",
       "new    300      35    0.116667"
      ]
     },
     "execution_count": 148,
     "metadata": {},
     "output_type": "execute_result"
    }
   ],
   "source": [
    "df = pd.DataFrame({'leads':[700, 300], 'orders':[70,35]}, index=['old', 'new'])\n",
    "df['convercion'] = df.orders/df.leads\n",
    "df"
   ]
  },
  {
   "cell_type": "code",
   "execution_count": 171,
   "id": "fa5ffd8a",
   "metadata": {},
   "outputs": [
    {
     "data": {
      "text/plain": [
       "0.4426"
      ]
     },
     "execution_count": 171,
     "metadata": {},
     "output_type": "execute_result"
    }
   ],
   "source": [
    "# берем разницу по модулю, т.к. тест двухсторонниий\n",
    "pd.Series([\n",
    "(abs(np.random.binomial(1,df.convercion.mean(), 300).mean() - np.random.binomial(1,df.convercion.mean(), 700).mean())) \\\n",
    ">=abs(df.convercion['new'] - df.convercion['old']) \\\n",
    "for _ in range(10000)]).mean()"
   ]
  },
  {
   "cell_type": "code",
   "execution_count": 172,
   "id": "4064b07f",
   "metadata": {},
   "outputs": [
    {
     "data": {
      "text/plain": [
       "0.43077522785411304"
      ]
     },
     "execution_count": 172,
     "metadata": {},
     "output_type": "execute_result"
    }
   ],
   "source": [
    "from statsmodels.stats.proportion import proportions_ztest\n",
    "leads = df.leads.values\n",
    "orders = df.orders.values\n",
    "proportions_ztest(orders, leads)[1]"
   ]
  },
  {
   "cell_type": "markdown",
   "id": "a3d24b7c",
   "metadata": {},
   "source": [
    "Как мы видим по этой задаче, p-value или вероятность получить такую же или более экстремальную разницу в конверсии чем наша (0.0166) составляет аж 44%. При таких условиях мы не можем отвергнуть нулевую гипотезу, которая утверждает, что разницы в эффективности нового лэндинга и старого сайта нет."
   ]
  },
  {
   "cell_type": "markdown",
   "id": "856d9063",
   "metadata": {},
   "source": [
    "### Задача\n",
    "- В 1950 году Джозеф Райн проводил эксперименты по выявлению людей с экстрасенсорными способностями. Каждый испытуемый должен был угадать цвет каждой карты в последовательности из 10 карт. В таком опыте вероятность случайно угадать 9 или 10 карт из 10 составляет  ≈ 0.01 — достаточно редкое событие, чтобы признать его маловероятным, поэтому Райн считал его свидетельством того, что испытуемый — экстрасенс. Однако, поскольку в опыте участвовало 1000 человек, вероятность того, что хотя бы один из них случайно угадает 9 или 10 карт составляла  ≈ 0.9998. Действительно, из 1000 испытуемых 12 человек угадали 9 из 10 карт, двое — все 10 карт. \n",
    "- посчитаем данные вероятности методом Монде-Карло"
   ]
  },
  {
   "cell_type": "code",
   "execution_count": 178,
   "id": "6efb61f4",
   "metadata": {},
   "outputs": [],
   "source": [
    "def coincidence():\n",
    "    cards = np.random.binomial(1, 0.5, 10)\n",
    "    answers = np.random.binomial(1, 0.5, 10)\n",
    "    return (cards==answers).sum() >=9"
   ]
  },
  {
   "cell_type": "code",
   "execution_count": 179,
   "id": "ccee4234",
   "metadata": {},
   "outputs": [
    {
     "data": {
      "text/plain": [
       "0.0114"
      ]
     },
     "execution_count": 179,
     "metadata": {},
     "output_type": "execute_result"
    }
   ],
   "source": [
    "np.mean([coincidence() for _ in range(10000)]) \n",
    "# В таком опыте вероятность случайно угадать 9 или 10 карт из 10 составляет  ≈ 0.01"
   ]
  },
  {
   "cell_type": "code",
   "execution_count": 190,
   "id": "7bdeb208",
   "metadata": {},
   "outputs": [
    {
     "data": {
      "application/vnd.jupyter.widget-view+json": {
       "model_id": "356d18dadfc14ed8af068fc5a041ecc9",
       "version_major": 2,
       "version_minor": 0
      },
      "text/plain": [
       "  0%|          | 0/1000 [00:00<?, ?it/s]"
      ]
     },
     "metadata": {},
     "output_type": "display_data"
    },
    {
     "data": {
      "text/plain": [
       "1.0"
      ]
     },
     "execution_count": 190,
     "metadata": {},
     "output_type": "execute_result"
    }
   ],
   "source": [
    "from tqdm.notebook import tqdm\n",
    "np.sum([coincidence() for _ in range(1000)]) # сколько всего человек угадает\n",
    "np.mean([any([coincidence() for _ in range(1000)]) for _ in tqdm(range(1000))]) #Однако, поскольку в опыте участвовало 1000 человек, \n",
    "#вероятность того, что хотя бы один из них случайно угадает 9 или 10 карт составляла ≈ 0.9998"
   ]
  },
  {
   "cell_type": "code",
   "execution_count": null,
   "id": "14c827d5",
   "metadata": {},
   "outputs": [],
   "source": []
  }
 ],
 "metadata": {
  "kernelspec": {
   "display_name": "Python 3 (ipykernel)",
   "language": "python",
   "name": "python3"
  },
  "language_info": {
   "codemirror_mode": {
    "name": "ipython",
    "version": 3
   },
   "file_extension": ".py",
   "mimetype": "text/x-python",
   "name": "python",
   "nbconvert_exporter": "python",
   "pygments_lexer": "ipython3",
   "version": "3.9.13"
  },
  "toc": {
   "base_numbering": 1,
   "nav_menu": {},
   "number_sections": true,
   "sideBar": true,
   "skip_h1_title": true,
   "title_cell": "Table of Contents",
   "title_sidebar": "Contents",
   "toc_cell": false,
   "toc_position": {},
   "toc_section_display": true,
   "toc_window_display": false
  }
 },
 "nbformat": 4,
 "nbformat_minor": 5
}
